{
 "cells": [
  {
   "cell_type": "markdown",
   "id": "151a53b1",
   "metadata": {},
   "source": [
    "**Q1. Explain with an example each when to use a for loop and a while loop.**"
   ]
  },
  {
   "cell_type": "markdown",
   "id": "dd7c6d75",
   "metadata": {},
   "source": [
    "**A:** both for loops and while loops are used for iteration. \n",
    "\n",
    "A for loop is used when you want to iterate over a sequence of items."
   ]
  },
  {
   "cell_type": "code",
   "execution_count": 10,
   "id": "3cc68348",
   "metadata": {
    "scrolled": true
   },
   "outputs": [
    {
     "name": "stdout",
     "output_type": "stream",
     "text": [
      "1\n",
      "2\n",
      "3\n",
      "4\n",
      "5\n"
     ]
    }
   ],
   "source": [
    "#Example for for loop\n",
    "\n",
    "list = [1,2,3,4,5]\n",
    "\n",
    "for i in list:\n",
    "    print(i)"
   ]
  },
  {
   "cell_type": "markdown",
   "id": "e6f3a3ab",
   "metadata": {},
   "source": [
    "A while loop is used when you want to execute a block of code repeatedly while a certain condition is met or true."
   ]
  },
  {
   "cell_type": "code",
   "execution_count": 11,
   "id": "cd8f5d9c",
   "metadata": {},
   "outputs": [
    {
     "name": "stdout",
     "output_type": "stream",
     "text": [
      "5\n",
      "4\n",
      "3\n",
      "2\n",
      "1\n"
     ]
    }
   ],
   "source": [
    "count = 5\n",
    "while count > 0:\n",
    "  print(count)\n",
    "  count -= 1"
   ]
  },
  {
   "cell_type": "markdown",
   "id": "bf221c83",
   "metadata": {},
   "source": [
    "**Q2. Write a python program to print the sum and product of the first 10 natural numbers using for and while loop.**"
   ]
  },
  {
   "cell_type": "markdown",
   "id": "980bf603",
   "metadata": {},
   "source": [
    "**for loop:**"
   ]
  },
  {
   "cell_type": "code",
   "execution_count": 12,
   "id": "0c241b04",
   "metadata": {},
   "outputs": [
    {
     "name": "stdout",
     "output_type": "stream",
     "text": [
      "Sum of first 10 natural numbers is:  55\n",
      "Product of first 10 natural numbers is:  3628800\n"
     ]
    }
   ],
   "source": [
    "# Sum and product of first 10 natural numbers using for loop\n",
    "\n",
    "sum = 0\n",
    "product = 1\n",
    "\n",
    "for i in range(1, 11):\n",
    "    sum += i\n",
    "    product *= i\n",
    "\n",
    "print(\"Sum of first 10 natural numbers is: \", sum)\n",
    "print(\"Product of first 10 natural numbers is: \", product)\n"
   ]
  },
  {
   "cell_type": "markdown",
   "id": "7e974a4c",
   "metadata": {},
   "source": [
    "**while loop:**"
   ]
  },
  {
   "cell_type": "code",
   "execution_count": 13,
   "id": "88aa8289",
   "metadata": {},
   "outputs": [
    {
     "name": "stdout",
     "output_type": "stream",
     "text": [
      "Sum of first 10 natural numbers is:  55\n",
      "Product of first 10 natural numbers is:  3628800\n"
     ]
    }
   ],
   "source": [
    "# Sum and product of first 10 natural numbers using while loop\n",
    "\n",
    "sum = 0\n",
    "product = 1\n",
    "i = 1\n",
    "\n",
    "while i <= 10:\n",
    "    sum += i\n",
    "    product *= i\n",
    "    i += 1\n",
    "\n",
    "print(\"Sum of first 10 natural numbers is: \", sum)\n",
    "print(\"Product of first 10 natural numbers is: \", product)\n"
   ]
  },
  {
   "cell_type": "markdown",
   "id": "9b5c0f44",
   "metadata": {},
   "source": [
    "**Q3. Create a python program to compute the electricity bill for a household.\n",
    "The per-unit charges in rupees are as follows: For the first 100 units, the user will be charged Rs. 4.5 per\n",
    "unit, for the next 100 units, the user will be charged Rs. 6 per unit, and for the next 100 units, the user will\n",
    "be charged Rs. 10 per unit, After 300 units and above the user will be charged Rs. 20 per unit.**"
   ]
  },
  {
   "cell_type": "code",
   "execution_count": 15,
   "id": "437a6ab4",
   "metadata": {},
   "outputs": [
    {
     "name": "stdout",
     "output_type": "stream",
     "text": [
      "Enter the number of units consumed: 310\n",
      "Your electricity bill is Rs. 2250.0\n"
     ]
    }
   ],
   "source": [
    "units = int(input(\"Enter the number of units consumed: \"))\n",
    "\n",
    "if units <= 100:\n",
    "    bill = units * 4.5\n",
    "elif units <= 200:\n",
    "    bill = 100 * 4.5 + (units - 100) * 6\n",
    "elif units <= 300:\n",
    "    bill = 100 * 4.5 + 100 * 6 + (units - 200) * 10\n",
    "else:\n",
    "    bill = 100 * 4.5 + 100 * 6 + 100 * 10 + (units - 300) * 20\n",
    "\n",
    "print(\"Your electricity bill is Rs.\", bill)\n"
   ]
  },
  {
   "cell_type": "markdown",
   "id": "3f37b911",
   "metadata": {},
   "source": [
    "**Q4. Create a list of numbers from 1 to 100. Use for loop and while loop to calculate the cube of each number and if the cube of that number is divisible by 4 or 5 then append that number in a list and print that list.**"
   ]
  },
  {
   "cell_type": "markdown",
   "id": "25835a2b",
   "metadata": {},
   "source": [
    "A: Using for loop:"
   ]
  },
  {
   "cell_type": "code",
   "execution_count": 20,
   "id": "391526ee",
   "metadata": {},
   "outputs": [
    {
     "name": "stdout",
     "output_type": "stream",
     "text": [
      "[2, 4, 5, 6, 8, 10, 12, 14, 15, 16, 18, 20, 22, 24, 25, 26, 28, 30, 32, 34, 35, 36, 38, 40, 42, 44, 45, 46, 48, 50, 52, 54, 55, 56, 58, 60, 62, 64, 65, 66, 68, 70, 72, 74, 75, 76, 78, 80, 82, 84, 85, 86, 88, 90, 92, 94, 95, 96, 98, 100]\n"
     ]
    }
   ],
   "source": [
    "list = []\n",
    "\n",
    "for i in range(1, 101):\n",
    "    cube = i ** 3\n",
    "    if cube % 4 == 0 or cube % 5 == 0:\n",
    "        list.append(i)\n",
    "\n",
    "print(list)\n"
   ]
  },
  {
   "cell_type": "code",
   "execution_count": 21,
   "id": "806236c0",
   "metadata": {},
   "outputs": [
    {
     "name": "stdout",
     "output_type": "stream",
     "text": [
      "[2, 4, 5, 6, 8, 10, 12, 14, 15, 16, 18, 20, 22, 24, 25, 26, 28, 30, 32, 34, 35, 36, 38, 40, 42, 44, 45, 46, 48, 50, 52, 54, 55, 56, 58, 60, 62, 64, 65, 66, 68, 70, 72, 74, 75, 76, 78, 80, 82, 84, 85, 86, 88, 90, 92, 94, 95, 96, 98, 100]\n"
     ]
    }
   ],
   "source": [
    "cube_list = []\n",
    "i = 1\n",
    "\n",
    "while i <= 100:\n",
    "    cube = i ** 3\n",
    "    if cube % 4 == 0 or cube % 5 == 0:\n",
    "        cube_list.append(i)\n",
    "    i += 1\n",
    "\n",
    "print(cube_list)\n"
   ]
  },
  {
   "cell_type": "markdown",
   "id": "cc190bcc",
   "metadata": {},
   "source": [
    "**Q5. Write a program to filter count vowels in the below-given string.\n",
    "string = \"I want to become a data scientist\"**"
   ]
  },
  {
   "cell_type": "code",
   "execution_count": 22,
   "id": "ee234776",
   "metadata": {},
   "outputs": [
    {
     "name": "stdout",
     "output_type": "stream",
     "text": [
      "The number of vowels in the string is: 12\n"
     ]
    }
   ],
   "source": [
    "string = \"I want to become a data scientist\"\n",
    "\n",
    "vowels = 'aeiou'\n",
    "count = 0\n",
    "\n",
    "for char in string:\n",
    "    if char.lower() in vowels:\n",
    "        count += 1\n",
    "\n",
    "print(\"The number of vowels in the string is:\", count)\n"
   ]
  }
 ],
 "metadata": {
  "kernelspec": {
   "display_name": "Python 3 (ipykernel)",
   "language": "python",
   "name": "python3"
  },
  "language_info": {
   "codemirror_mode": {
    "name": "ipython",
    "version": 3
   },
   "file_extension": ".py",
   "mimetype": "text/x-python",
   "name": "python",
   "nbconvert_exporter": "python",
   "pygments_lexer": "ipython3",
   "version": "3.11.1"
  }
 },
 "nbformat": 4,
 "nbformat_minor": 5
}
